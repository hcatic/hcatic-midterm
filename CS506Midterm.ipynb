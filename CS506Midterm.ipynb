{
  "cells": [
    {
      "cell_type": "markdown",
      "metadata": {
        "id": "qd-t_R8DoevK"
      },
      "source": [
        "# Libraries"
      ]
    },
    {
      "cell_type": "code",
      "execution_count": 207,
      "metadata": {
        "id": "iQ-SbbbjoevL"
      },
      "outputs": [],
      "source": [
        "import pickle\n",
        "import pandas as pd\n",
        "import seaborn as sns\n",
        "from os.path import exists\n",
        "import matplotlib.pyplot as plt\n",
        "from sklearn.model_selection import train_test_split\n",
        "from sklearn.metrics import accuracy_score, confusion_matrix\n",
        "from sklearn.preprocessing import StandardScaler, LabelEncoder, OrdinalEncoder\n",
        "from sklearn.utils.class_weight import compute_class_weight\n",
        "from xgboost import XGBClassifier\n",
        "import numpy as np\n",
        "import os\n",
        "from textblob import TextBlob"
      ]
    },
    {
      "cell_type": "markdown",
      "metadata": {
        "id": "eCxH6YBnoevM"
      },
      "source": [
        "# Loading the Files\n",
        "\n",
        "Download the csv files into the `data/` directory."
      ]
    },
    {
      "cell_type": "code",
      "execution_count": 208,
      "metadata": {
        "colab": {
          "base_uri": "https://localhost:8080/",
          "height": 1000
        },
        "id": "vJZseNk1oevM",
        "outputId": "a9934121-b4ad-4fd6-e214-6eb4491637a7"
      },
      "outputs": [
        {
          "name": "stdout",
          "output_type": "stream",
          "text": [
            "train.csv shape is  (1485341, 9)\n",
            "test.csv shape is  (212192, 2)\n",
            "\n",
            "        Id   ProductId          UserId  HelpfulnessNumerator  \\\n",
            "0   914403  B0009W5KHM   AV6QDP8Q0ONK4                     2   \n",
            "1   354887  6303079709  A2I8RXJN80A2D2                     0   \n",
            "2  1407653  B004H0M2XC  A3FHV3RV8Z12E6                     0   \n",
            "3  1377458  B003ZJ9536  A12VLTA3ZHVPUY                     1   \n",
            "4   475323  630574453X  A13NM1PES9OXVN                     2   \n",
            "\n",
            "   HelpfulnessDenominator        Time  \\\n",
            "0                       2  1341014400   \n",
            "1                       0  1168819200   \n",
            "2                       0  1386201600   \n",
            "3                       1  1348704000   \n",
            "4                       3   970012800   \n",
            "\n",
            "                                         Summary  \\\n",
            "0                                  GOOD FUN FILM   \n",
            "1                                   Movie Review   \n",
            "2             When is it a good time to Consent?   \n",
            "3                                          TRUTH   \n",
            "4  Intelligent and bittersweet -- stays with you   \n",
            "\n",
            "                                                Text  Score  \n",
            "0  While most straight to DVD films are not worth...    5.0  \n",
            "1  I have wanted this one for sometime, also.  I ...    5.0  \n",
            "2  Actually this was a pretty darn good indie fil...    4.0  \n",
            "3  Episodes 37 to 72 of the series press on in a ...    5.0  \n",
            "4  I was really impressed with this movie, but wa...    3.0  \n",
            "\n",
            "        Id  Score\n",
            "0  1323432    NaN\n",
            "1  1137299    NaN\n",
            "2  1459366    NaN\n",
            "3   931601    NaN\n",
            "4  1311995    NaN\n",
            "\n",
            "                 Id  HelpfulnessNumerator  HelpfulnessDenominator  \\\n",
            "count  1.485341e+06          1.485341e+06            1.485341e+06   \n",
            "mean   8.487319e+05          3.570165e+00            5.303404e+00   \n",
            "std    4.901809e+05          1.747512e+01            2.038689e+01   \n",
            "min    0.000000e+00          0.000000e+00            0.000000e+00   \n",
            "25%    4.241330e+05          0.000000e+00            0.000000e+00   \n",
            "50%    8.488060e+05          1.000000e+00            1.000000e+00   \n",
            "75%    1.273438e+06          3.000000e+00            5.000000e+00   \n",
            "max    1.697532e+06          6.084000e+03            6.510000e+03   \n",
            "\n",
            "               Time         Score  \n",
            "count  1.485341e+06  1.485341e+06  \n",
            "mean   1.262344e+09  4.110517e+00  \n",
            "std    1.289543e+08  1.197651e+00  \n",
            "min    8.793792e+08  1.000000e+00  \n",
            "25%    1.164240e+09  4.000000e+00  \n",
            "50%    1.307405e+09  5.000000e+00  \n",
            "75%    1.373242e+09  5.000000e+00  \n",
            "max    1.406074e+09  5.000000e+00  \n"
          ]
        },
        {
          "data": {
            "image/png": "[encoded data removed]",
            "text/plain": [
              "<Figure size 640x480 with 1 Axes>"
            ]
          },
          "metadata": {},
          "output_type": "display_data"
        },
        {
          "name": "stdout",
          "output_type": "stream",
          "text": [
            "\n",
            "EVERYTHING IS PROPERLY SET UP! YOU ARE READY TO START\n"
          ]
        }
      ],
      "source": [
        "trainingSet = pd.read_csv(\"train.csv\")\n",
        "testingSet = pd.read_csv(\"test.csv\")\n",
        "trainingSet = trainingSet.dropna(subset=['Score'])\n",
        "\n",
        "print(\"train.csv shape is \", trainingSet.shape)\n",
        "print(\"test.csv shape is \", testingSet.shape)\n",
        "\n",
        "print()\n",
        "\n",
        "print(trainingSet.head())\n",
        "print()\n",
        "print(testingSet.head())\n",
        "\n",
        "print()\n",
        "\n",
        "print(trainingSet.describe())\n",
        "\n",
        "trainingSet['Score'].value_counts().plot(kind='bar', legend=True, alpha=.5)\n",
        "plt.show()\n",
        "\n",
        "print()\n",
        "print(\"EVERYTHING IS PROPERLY SET UP! YOU ARE READY TO START\")"
      ]
    },
    {
      "cell_type": "markdown",
      "metadata": {
        "id": "prtUG3mDoevM"
      },
      "source": [
        "# Adding Features"
      ]
    },
    {
      "cell_type": "code",
      "execution_count": 209,
      "metadata": {
        "id": "J-6UZ25voevM"
      },
      "outputs": [],
      "source": [
        "product_avg_score = trainingSet.groupby('ProductId')['Score'].mean().to_dict()\n",
        "user_avg_score = trainingSet.groupby('UserId')['Score'].mean().to_dict()\n",
        "\n",
        "def add_features_to(df, product_avg_score_dict, user_avg_score_dict):\n",
        "    if 'HelpfulnessNumerator' in df.columns and 'HelpfulnessDenominator' in df.columns:\n",
        "        df['Helpfulness'] = np.where(df['HelpfulnessDenominator'] > 0,\n",
        "                                     df['HelpfulnessNumerator'] / df['HelpfulnessDenominator'],\n",
        "                                     0)\n",
        "    else:\n",
        "        df['Helpfulness'] = 0\n",
        "\n",
        "    if 'Time' in df.columns:\n",
        "        current_date = pd.Timestamp.now()\n",
        "        df['Time'] = pd.to_datetime(df['Time'], unit='s', errors='coerce')\n",
        "        df['ReviewAge'] = (current_date - df['Time']).dt.days\n",
        "    else:\n",
        "        df['ReviewAge'] = 0\n",
        "\n",
        "    if 'Text' in df.columns:\n",
        "        df['SentimentPolarity'] = df['Text'].apply(lambda x: TextBlob(str(x)).sentiment.polarity if pd.notnull(x) else 0)\n",
        "    else:\n",
        "        df['SentimentPolarity'] = 0\n",
        "\n",
        "    if 'ProductId' in df.columns:\n",
        "        df['AverageProductScore'] = df['ProductId'].map(product_avg_score_dict)\n",
        "        df['AverageProductScore'] = df['AverageProductScore'].fillna(trainingSet['Score'].mean())\n",
        "    else:\n",
        "        df['AverageProductScore'] = trainingSet['Score'].mean()\n",
        "\n",
        "    if 'UserId' in df.columns:\n",
        "        df['AverageUserScore'] = df['UserId'].map(user_avg_score_dict)\n",
        "        df['AverageUserScore'] = df['AverageUserScore'].fillna(trainingSet['Score'].mean())\n",
        "    else:\n",
        "        df['AverageUserScore'] = trainingSet['Score'].mean()\n",
        "\n",
        "    return df\n",
        "\n",
        "def preprocess_data(df, product_avg_score_dict, user_avg_score_dict, oe_product=None, oe_user=None):\n",
        "    df = add_features_to(df, product_avg_score_dict, user_avg_score_dict)\n",
        "\n",
        "    if 'ProductId' in df.columns:\n",
        "        df['ProductId'] = df['ProductId'].astype(str)\n",
        "    else:\n",
        "        df['ProductId'] = '-1'\n",
        "\n",
        "    if 'UserId' in df.columns:\n",
        "        df['UserId'] = df['UserId'].astype(str)\n",
        "    else:\n",
        "        df['UserId'] = '-1'\n",
        "\n",
        "    if oe_product is None:\n",
        "        oe_product = OrdinalEncoder(handle_unknown='use_encoded_value', unknown_value=-1)\n",
        "\n",
        "    if not hasattr(oe_product, 'categories_'):\n",
        "        oe_product.fit(df[['ProductId']])\n",
        "    df[['ProductId']] = oe_product.transform(df[['ProductId']])\n",
        "\n",
        "    if oe_user is None:\n",
        "        oe_user = OrdinalEncoder(handle_unknown='use_encoded_value', unknown_value=-1)\n",
        "\n",
        "    if not hasattr(oe_user, 'categories_'):\n",
        "        oe_user.fit(df[['UserId']])\n",
        "    df[['UserId']] = oe_user.transform(df[['UserId']])\n",
        "\n",
        "    numerical_cols = ['Helpfulness', 'ReviewAge', 'SentimentPolarity', 'AverageProductScore', 'AverageUserScore']\n",
        "\n",
        "    existing_numerical_cols = [col for col in numerical_cols if col in df.columns]\n",
        "    if existing_numerical_cols:\n",
        "        scaler = StandardScaler()\n",
        "        df[existing_numerical_cols] = scaler.fit_transform(df[existing_numerical_cols])\n",
        "\n",
        "    return df, oe_product, oe_user\n",
        "\n",
        "X_train_preprocessed, oe_product, oe_user = preprocess_data(trainingSet, product_avg_score, user_avg_score)\n",
        "\n",
        "X_test_preprocessed, _, _ = preprocess_data(testingSet, product_avg_score, user_avg_score, oe_product, oe_user)"
      ]
    },
    {
      "cell_type": "markdown",
      "metadata": {
        "id": "5i-uq4GKoevM"
      },
      "source": [
        "# Sample + Split into training and testing set"
      ]
    },
    {
      "cell_type": "code",
      "execution_count": 210,
      "metadata": {
        "id": "_P9YWrPGoevN"
      },
      "outputs": [],
      "source": [
        "X_train_data, X_test_data, Y_train_data, Y_test_data = train_test_split(\n",
        "    X_train_preprocessed,\n",
        "    trainingSet['Score'],\n",
        "    test_size=0.25,\n",
        "    random_state=0\n",
        ")"
      ]
    },
    {
      "cell_type": "markdown",
      "metadata": {
        "id": "vtlRbfrsoevN"
      },
      "source": [
        "# Feature Selection"
      ]
    },
    {
      "cell_type": "code",
      "execution_count": 214,
      "metadata": {
        "id": "F66V_oTDoevN"
      },
      "outputs": [],
      "source": [
        "features = ['Helpfulness', 'ReviewAge', 'SentimentPolarity', 'AverageProductScore', 'AverageUserScore', 'ProductId', 'UserId']\n",
        "\n",
        "X_train_data, X_test_data, Y_train_data, Y_test_data = train_test_split(\n",
        "    X_train_preprocessed,\n",
        "    trainingSet['Score'],\n",
        "    test_size=0.25,\n",
        "    random_state=0\n",
        ")\n",
        "\n",
        "valid_indices_train = Y_train_data.notnull() & ~np.isinf(Y_train_data)\n",
        "\n",
        "X_train_data_clean = X_train_data[valid_indices_train]\n",
        "Y_train_data_clean = Y_train_data[valid_indices_train]\n",
        "\n",
        "valid_indices_test = Y_test_data.notnull() & ~np.isinf(Y_test_data)\n",
        "X_test_data_clean = X_test_data[valid_indices_test]\n",
        "Y_test_data_clean = Y_test_data[valid_indices_test]\n",
        "\n",
        "X_train_select = X_train_data_clean[features]\n",
        "X_test_select = X_test_data_clean[features]\n",
        "X_submission_select = X_test_preprocessed[features]\n",
        "\n",
        "Y_train = Y_train_data_clean.astype(int) - 1\n",
        "Y_test = Y_test_data_clean.astype(int) - 1"
      ]
    },
    {
      "cell_type": "markdown",
      "metadata": {
        "id": "DLJnoP9ZoevN"
      },
      "source": [
        "# Model Creation"
      ]
    },
    {
      "cell_type": "code",
      "execution_count": 215,
      "metadata": {
        "colab": {
          "base_uri": "https://localhost:8080/"
        },
        "id": "YyzWhVOmoevN",
        "outputId": "f8e2ed04-e3f7-4899-c4de-7afb5c30f683"
      },
      "outputs": [
        {
          "name": "stdout",
          "output_type": "stream",
          "text": [
            "Model trained.\n"
          ]
        }
      ],
      "source": [
        "model = XGBClassifier(\n",
        "    objective='multi:softmax',\n",
        "    num_class=5,\n",
        "    eval_metric='mlogloss',\n",
        "    random_state=42,\n",
        "    learning_rate=0.1,\n",
        "    max_depth=6,\n",
        "    subsample=1,\n",
        "    colsample_bytree=1,\n",
        "    n_estimators=100\n",
        ")\n",
        "\n",
        "model.fit(X_train_select, Y_train)\n",
        "print(\"Model trained.\")\n",
        "\n",
        "Y_test_predictions = model.predict(X_test_select)\n",
        "\n",
        "Y_test_predictions = Y_test_predictions + 1\n",
        "Y_test_actual = Y_test + 1"
      ]
    },
    {
      "cell_type": "markdown",
      "metadata": {
        "id": "nK-zRMD9oevN"
      },
      "source": [
        "# Model Evaluation"
      ]
    },
    {
      "cell_type": "code",
      "execution_count": 216,
      "metadata": {
        "colab": {
          "base_uri": "https://localhost:8080/",
          "height": 581
        },
        "id": "C6_4G0qqoevN",
        "outputId": "97ba4803-a2ff-498a-90eb-8cc85fd0f0da"
      },
      "outputs": [
        {
          "name": "stdout",
          "output_type": "stream",
          "text": [
            "Validation Accuracy: 0.6124776482754163\n"
          ]
        },
        {
          "data": {
            "image/png": "[encoded data removed]",
            "text/plain": [
              "<Figure size 800x600 with 2 Axes>"
            ]
          },
          "metadata": {},
          "output_type": "display_data"
        }
      ],
      "source": [
        "accuracy = accuracy_score(Y_test_actual, Y_test_predictions)\n",
        "print(f\"Validation Accuracy: {accuracy}\")\n",
        "\n",
        "cm = confusion_matrix(Y_test_actual, Y_test_predictions, normalize='true')\n",
        "plt.figure(figsize=(8, 6))\n",
        "sns.heatmap(cm, annot=True, fmt='.2f', cmap='Blues', xticklabels=range(1,6), yticklabels=range(1,6))\n",
        "plt.title('Confusion Matrix of the Classifier')\n",
        "plt.xlabel('Predicted Score')\n",
        "plt.ylabel('Actual Score')\n",
        "plt.show()"
      ]
    },
    {
      "cell_type": "markdown",
      "metadata": {
        "id": "2ZiV0fOvoevN"
      },
      "source": [
        "# Create submission file"
      ]
    },
    {
      "cell_type": "code",
      "execution_count": 217,
      "metadata": {
        "colab": {
          "base_uri": "https://localhost:8080/"
        },
        "id": "5Hq4BBtXoevO",
        "outputId": "4215ffe4-3cdb-4990-bb79-f94fa708b590"
      },
      "outputs": [
        {
          "name": "stdout",
          "output_type": "stream",
          "text": [
            "Submission file created successfully!\n"
          ]
        }
      ],
      "source": [
        "Y_submission_pred = model.predict(X_submission_select) + 1\n",
        "\n",
        "submission = pd.DataFrame({\n",
        "    'Id': testingSet['Id'],\n",
        "    'Score': Y_submission_pred.astype(int)\n",
        "})\n",
        "\n",
        "submission.to_csv(\"submission.csv\", index=False)\n",
        "print(\"Submission file created successfully!\")"
      ]
    }
  ],
  "metadata": {
    "colab": {
      "provenance": []
    },
    "kernelspec": {
      "display_name": "env",
      "language": "python",
      "name": "python3"
    },
    "language_info": {
      "codemirror_mode": {
        "name": "ipython",
        "version": 3
      },
      "file_extension": ".py",
      "mimetype": "text/x-python",
      "name": "python",
      "nbconvert_exporter": "python",
      "pygments_lexer": "ipython3",
      "version": "3.12.3"
    }
  },
  "nbformat": 4,
  "nbformat_minor": 0
}
